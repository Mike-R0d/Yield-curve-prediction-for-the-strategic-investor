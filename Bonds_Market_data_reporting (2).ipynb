{
 "cells": [
  {
   "cell_type": "code",
   "execution_count": 1,
   "metadata": {
    "colab": {
     "base_uri": "https://localhost:8080/",
     "height": 835
    },
    "colab_type": "code",
    "id": "VtG8x9R3bTcP",
    "outputId": "39c7e684-d151-4fb9-dce2-db3f87c4b242"
   },
   "outputs": [
    {
     "name": "stdout",
     "output_type": "stream",
     "text": [
      "Requirement already satisfied: investpy in c:\\users\\dti\\anaconda3\\lib\\site-packages (1.0)\n",
      "Requirement already satisfied: lxml>=4.4.1 in c:\\users\\dti\\anaconda3\\lib\\site-packages (from investpy) (4.5.2)\n",
      "Requirement already satisfied: Unidecode>=1.1.1 in c:\\users\\dti\\anaconda3\\lib\\site-packages (from investpy) (1.1.1)\n",
      "Requirement already satisfied: pytz>=2019.3 in c:\\users\\dti\\anaconda3\\lib\\site-packages (from investpy) (2020.1)\n",
      "Requirement already satisfied: numpy>=1.17.2 in c:\\users\\dti\\anaconda3\\lib\\site-packages (from investpy) (1.18.5)\n",
      "Requirement already satisfied: pandas>=0.25.1 in c:\\users\\dti\\anaconda3\\lib\\site-packages (from investpy) (1.0.5)\n",
      "Requirement already satisfied: requests>=2.22.0 in c:\\users\\dti\\anaconda3\\lib\\site-packages (from investpy) (2.24.0)\n",
      "Requirement already satisfied: setuptools>=41.2.0 in c:\\users\\dti\\anaconda3\\lib\\site-packages (from investpy) (49.2.0.post20200714)\n",
      "Requirement already satisfied: python-dateutil>=2.6.1 in c:\\users\\dti\\anaconda3\\lib\\site-packages (from pandas>=0.25.1->investpy) (2.8.1)\n",
      "Requirement already satisfied: chardet<4,>=3.0.2 in c:\\users\\dti\\anaconda3\\lib\\site-packages (from requests>=2.22.0->investpy) (3.0.4)\n",
      "Requirement already satisfied: urllib3!=1.25.0,!=1.25.1,<1.26,>=1.21.1 in c:\\users\\dti\\anaconda3\\lib\\site-packages (from requests>=2.22.0->investpy) (1.25.9)\n",
      "Requirement already satisfied: idna<3,>=2.5 in c:\\users\\dti\\anaconda3\\lib\\site-packages (from requests>=2.22.0->investpy) (2.10)\n",
      "Requirement already satisfied: certifi>=2017.4.17 in c:\\users\\dti\\anaconda3\\lib\\site-packages (from requests>=2.22.0->investpy) (2020.6.20)\n",
      "Requirement already satisfied: six>=1.5 in c:\\users\\dti\\anaconda3\\lib\\site-packages (from python-dateutil>=2.6.1->pandas>=0.25.1->investpy) (1.15.0)\n"
     ]
    }
   ],
   "source": [
    "import requests\n",
    "import time\n",
    "import os\n",
    "\n",
    "#CLOUD\n",
    "# from google.colab import drive\n",
    "# drive.mount('/content/drive')\n",
    "# !pip install -U -q PyDrive\n",
    "# from pydrive.auth import GoogleAuth\n",
    "# from pydrive.drive import GoogleDrive\n",
    "# from google.colab import auth\n",
    "# from oauth2client.client import GoogleCredentials\n",
    "# # Authenticate and create the PyDrive client.\n",
    "# auth.authenticate_user()\n",
    "# gauth = GoogleAuth()\n",
    "# gauth.credentials = GoogleCredentials.get_application_default()\n",
    "# drive = GoogleDrive(gauth)\n",
    "\n",
    "#WEB SCRAPING\n",
    "import requests\n",
    "import urllib.request\n",
    "import time\n",
    "from urllib3.exceptions import InsecureRequestWarning\n",
    "!pip install investpy\n",
    "import investpy\n",
    "import warnings\n",
    "warnings.filterwarnings('ignore')\n",
    "# !pip install tradingeconomics\n",
    "# import tradingeconomics as te\n",
    "# te.login('Your_Key:Your_Secret')\n",
    "# te.login()\n",
    "\n",
    "#from bs4 import BeautifulSoup\n",
    "\n",
    "#MANIPULACION DE DATOS\n",
    "import pandas as pd #Data frame para manipulación de datos\n",
    "from pandas import datetime\n",
    "import datetime #Para fechar registros de acuerdo a su indice\n",
    "\n",
    "#ANALISIS MULTIVARIANTE\n",
    "import numpy as np #Paquete con algebra lineal\n",
    "import scipy as sc #Paquete con calculo vectorial\n",
    "\n",
    "#GRAFICOS\n",
    "import matplotlib.pyplot as plt #para elaboración de graficos simples\n",
    "from pandas.plotting import autocorrelation_plot #Para\n",
    "from pandas.plotting import register_matplotlib_converters\n",
    "from statsmodels.sandbox.regression.predstd import wls_prediction_std\n",
    "register_matplotlib_converters()\n",
    "import seaborn as sns #para elaboración de graficos mapas de calor\n",
    "sns.set()\n",
    "\n",
    "#MACHINE LEARNING\n",
    "import sklearn as sk #\n",
    "\n",
    "import statsmodels.api as sm #Modelos estadistico y metodologías econometricas\n",
    "from statsmodels.tsa.stattools import adfuller #Pruebas de raíz unitaria ads,kpss,ers\n",
    "from statsmodels.tsa.seasonal import seasonal_decompose #Análisis de estacionalidad\n",
    "from statsmodels.tsa.arima_model import ARIMA\n",
    "from statsmodels.graphics.tsaplots import plot_acf\n",
    "import statsmodels.graphics.tsaplots as sgt \n",
    "import statsmodels.tsa.stattools as sts \n",
    "from scipy.stats.distributions import chi2\n",
    "from math import sqrt\n",
    "import seaborn as sns\n"
   ]
  },
  {
   "cell_type": "code",
   "execution_count": 2,
   "metadata": {
    "colab": {
     "base_uri": "https://localhost:8080/",
     "height": 34
    },
    "colab_type": "code",
    "id": "70k4q2F6bTcY",
    "outputId": "30b6bf54-e04d-4412-b917-20a7426c395b"
   },
   "outputs": [
    {
     "name": "stdout",
     "output_type": "stream",
     "text": [
      "03/09/2020\n"
     ]
    }
   ],
   "source": [
    "#FECHADO\n",
    "inicio_tiempo = datetime.datetime.now()\n",
    "hoy1= datetime.datetime.today()\n",
    "hoy2=hoy1.strftime('%d/%m/%Y')\n",
    "hoy3=str(hoy2)\n",
    "# hoy3='02/04/2020'\n",
    "\n",
    "print(hoy3)\n",
    "\n",
    "Inicio1='02/01/2006'\n",
    "#Fin1='01/01/2020'"
   ]
  },
  {
   "cell_type": "markdown",
   "metadata": {
    "colab_type": "text",
    "id": "32JwmFYQJNao"
   },
   "source": [
    "#Prueba Consolidado"
   ]
  },
  {
   "cell_type": "code",
   "execution_count": 3,
   "metadata": {
    "colab": {},
    "colab_type": "code",
    "id": "3Lrx60qigbmp"
   },
   "outputs": [],
   "source": [
    "# countries=investpy.bonds.get_bond_countries()\n",
    "# df_bond= pd.DataFrame()\n",
    "# for i in countries:\n",
    "#   list_bonds_total=investpy.bonds.get_bonds_list(country=i) \n",
    "#   for j in list_bonds_total:\n",
    "#     df_bonds_total=investpy.get_bond_historical_data(bond= j, from_date=Inicio1, to_date=hoy3)   #La cosa es el from_date \n",
    "#     df_bonds_total=df_bonds_total.assign(Variable=lambda x: j, Type=lambda x: \"bond\")\n",
    "#     df_bonds_total.reset_index(inplace=True)\n",
    "#     df_date2 = df_date.join(df_bonds_total.set_index('Date'), on='Date') #El df_date comienza desde este año\n",
    "#     df_date2 = df_date2.fillna(method='ffill') \n",
    "#     df_bond = pd.concat([df_bond, df_date2]) #Se concatenan los df\n",
    "# print(df_bond)"
   ]
  },
  {
   "cell_type": "code",
   "execution_count": 4,
   "metadata": {
    "colab": {
     "base_uri": "https://localhost:8080/",
     "height": 34
    },
    "colab_type": "code",
    "id": "coC7nVWwXXsK",
    "outputId": "758bb694-5157-4480-8d5e-b917ca024946"
   },
   "outputs": [],
   "source": [
    "# df_bond.isnull().sum().sum()"
   ]
  },
  {
   "cell_type": "code",
   "execution_count": 5,
   "metadata": {
    "colab": {},
    "colab_type": "code",
    "id": "uqiscqs1bTcv"
   },
   "outputs": [],
   "source": [
    "# df_bond.to_csv('/content/drive/My Drive/01. Business Intelligence & Analytics (BI&A)/Market Reporting/1. Insumos/DB_Bond_Market_Reporting.csv') #data.csv"
   ]
  },
  {
   "cell_type": "markdown",
   "metadata": {
    "colab_type": "text",
    "id": "R83Qw8dhmTSQ"
   },
   "source": [
    "####PRUEBA BONOS USA"
   ]
  },
  {
   "cell_type": "code",
   "execution_count": 6,
   "metadata": {
    "colab": {
     "base_uri": "https://localhost:8080/",
     "height": 265
    },
    "colab_type": "code",
    "id": "8dUdvV0MItul",
    "outputId": "18b93d34-4dd7-4cbe-9f3b-fa37e9593df5"
   },
   "outputs": [
    {
     "name": "stdout",
     "output_type": "stream",
     "text": [
      "          Date\n",
      "0   2020-01-01\n",
      "1   2020-01-02\n",
      "2   2020-01-03\n",
      "3   2020-01-04\n",
      "4   2020-01-05\n",
      "..         ...\n",
      "242 2020-08-30\n",
      "243 2020-08-31\n",
      "244 2020-09-01\n",
      "245 2020-09-02\n",
      "246 2020-09-03\n",
      "\n",
      "[247 rows x 1 columns]\n"
     ]
    }
   ],
   "source": [
    "year_2020= pd.date_range(start=\"2020-01-01\", end=datetime.datetime.today())\n",
    "df_date = pd.DataFrame(year_2020, columns=['Date'])\n",
    "print(df_date)"
   ]
  },
  {
   "cell_type": "code",
   "execution_count": 7,
   "metadata": {
    "colab": {
     "base_uri": "https://localhost:8080/",
     "height": 283
    },
    "colab_type": "code",
    "id": "_RyHt_XsCrT_",
    "outputId": "04cac9f1-9826-4ca2-dc17-58d77126f3f5"
   },
   "outputs": [
    {
     "name": "stdout",
     "output_type": "stream",
     "text": [
      "            Open_x  High_x  Low_x  Close_x Variable_x Type_x Types_x  Open_y  \\\n",
      "Date                                                                           \n",
      "2020-01-01     NaN     NaN    NaN      NaN        NaN    NaN     NaN   2.389   \n",
      "2020-01-02     NaN     NaN    NaN      NaN        NaN    NaN     NaN   2.395   \n",
      "2020-01-03     NaN     NaN    NaN      NaN        NaN    NaN     NaN   2.295   \n",
      "2020-01-04     NaN     NaN    NaN      NaN        NaN    NaN     NaN   2.295   \n",
      "2020-01-05     NaN     NaN    NaN      NaN        NaN    NaN     NaN   2.231   \n",
      "...            ...     ...    ...      ...        ...    ...     ...     ...   \n",
      "2020-08-30   0.156   0.172  0.154    0.160    U.S. 2Y   bond   bonds   0.129   \n",
      "2020-08-31   0.158   0.172  0.156    0.166    U.S. 2Y   bond   bonds   0.131   \n",
      "2020-09-01   0.168   0.202  0.166    0.192    U.S. 2Y   bond   bonds   0.135   \n",
      "2020-09-02   0.198   0.204  0.184    0.198    U.S. 2Y   bond   bonds   0.131   \n",
      "2020-09-03   0.194   0.238  0.188    0.210    U.S. 2Y   bond   bonds   0.135   \n",
      "\n",
      "            High_y  Low_y  Close_y Variable_y Type_y Types_y  \n",
      "Date                                                          \n",
      "2020-01-01   2.389  2.389    2.389   U.S. 30Y   bond   bonds  \n",
      "2020-01-02   2.419  2.316    2.328   U.S. 30Y   bond   bonds  \n",
      "2020-01-03   2.301  2.245    2.249   U.S. 30Y   bond   bonds  \n",
      "2020-01-04   2.301  2.245    2.249   U.S. 30Y   bond   bonds  \n",
      "2020-01-05   2.231  2.227    2.227   U.S. 30Y   bond   bonds  \n",
      "...            ...    ...      ...        ...    ...     ...  \n",
      "2020-08-30   0.129  0.129    0.129    U.S. 2Y   bond   bonds  \n",
      "2020-08-31   0.137  0.129    0.133    U.S. 2Y   bond   bonds  \n",
      "2020-09-01   0.141  0.131    0.133    U.S. 2Y   bond   bonds  \n",
      "2020-09-02   0.141  0.131    0.135    U.S. 2Y   bond   bonds  \n",
      "2020-09-03   0.141  0.123    0.125    U.S. 2Y   bond   bonds  \n",
      "\n",
      "[2470 rows x 14 columns]\n"
     ]
    }
   ],
   "source": [
    "usa_list_bonds=investpy.bonds.get_bonds_list(country='United States') \n",
    "df_usa_bond= pd.DataFrame()\n",
    "for j in usa_list_bonds:\n",
    "  df_usa=investpy.get_bond_historical_data(bond= j, from_date=Inicio1, to_date=hoy3)\n",
    "  df_usa=df_usa.assign(Variable=lambda x: j, Type=lambda x: \"bond\" , Types=lambda x: \"bonds\") #Se añaden columnas Variable y Type\n",
    "  df_usa.reset_index(inplace=True)\n",
    "  df_date1 = df_date.join(df_usa.set_index('Date'), on='Date')\n",
    "  df_date1 = df_date1.fillna(method='ffill') ##########\n",
    "  df_date1=df_date1.set_index('Date')\n",
    "  df_usa_shift=df_date1.shift(90)\n",
    "  df_usa_junto = pd.merge(df_usa_shift, df_date1, on='Date' )\n",
    "  df_usa_bond = pd.concat([df_usa_bond, df_usa_junto]) \n",
    "print(df_usa_bond)"
   ]
  },
  {
   "cell_type": "markdown",
   "metadata": {
    "colab_type": "text",
    "id": "oAGVXrPpqNEo"
   },
   "source": []
  },
  {
   "cell_type": "code",
   "execution_count": 8,
   "metadata": {
    "colab": {
     "base_uri": "https://localhost:8080/",
     "height": 377
    },
    "colab_type": "code",
    "id": "hdYtu5hsC4Vw",
    "outputId": "42eee802-2b83-4541-fcc3-c75159994921"
   },
   "outputs": [
    {
     "data": {
      "text/html": [
       "<div>\n",
       "<style scoped>\n",
       "    .dataframe tbody tr th:only-of-type {\n",
       "        vertical-align: middle;\n",
       "    }\n",
       "\n",
       "    .dataframe tbody tr th {\n",
       "        vertical-align: top;\n",
       "    }\n",
       "\n",
       "    .dataframe thead th {\n",
       "        text-align: right;\n",
       "    }\n",
       "</style>\n",
       "<table border=\"1\" class=\"dataframe\">\n",
       "  <thead>\n",
       "    <tr style=\"text-align: right;\">\n",
       "      <th></th>\n",
       "      <th>Date</th>\n",
       "      <th>YTM(t-s)</th>\n",
       "      <th>YTM(t)</th>\n",
       "      <th>Tenor</th>\n",
       "      <th>Spread</th>\n",
       "    </tr>\n",
       "    <tr>\n",
       "      <th>Var</th>\n",
       "      <th></th>\n",
       "      <th></th>\n",
       "      <th></th>\n",
       "      <th></th>\n",
       "      <th></th>\n",
       "    </tr>\n",
       "  </thead>\n",
       "  <tbody>\n",
       "    <tr>\n",
       "      <th>1</th>\n",
       "      <td>2020-03-09</td>\n",
       "      <td>NaN</td>\n",
       "      <td>0.692</td>\n",
       "      <td>NaN</td>\n",
       "      <td>NaN</td>\n",
       "    </tr>\n",
       "    <tr>\n",
       "      <th>2</th>\n",
       "      <td>2020-03-09</td>\n",
       "      <td>NaN</td>\n",
       "      <td>0.522</td>\n",
       "      <td>NaN</td>\n",
       "      <td>NaN</td>\n",
       "    </tr>\n",
       "    <tr>\n",
       "      <th>3</th>\n",
       "      <td>2020-03-09</td>\n",
       "      <td>NaN</td>\n",
       "      <td>0.409</td>\n",
       "      <td>NaN</td>\n",
       "      <td>NaN</td>\n",
       "    </tr>\n",
       "    <tr>\n",
       "      <th>4</th>\n",
       "      <td>2020-03-09</td>\n",
       "      <td>NaN</td>\n",
       "      <td>0.393</td>\n",
       "      <td>NaN</td>\n",
       "      <td>NaN</td>\n",
       "    </tr>\n",
       "    <tr>\n",
       "      <th>5</th>\n",
       "      <td>2020-03-09</td>\n",
       "      <td>NaN</td>\n",
       "      <td>0.301</td>\n",
       "      <td>NaN</td>\n",
       "      <td>NaN</td>\n",
       "    </tr>\n",
       "    <tr>\n",
       "      <th>6</th>\n",
       "      <td>2020-03-09</td>\n",
       "      <td>NaN</td>\n",
       "      <td>0.495</td>\n",
       "      <td>NaN</td>\n",
       "      <td>NaN</td>\n",
       "    </tr>\n",
       "    <tr>\n",
       "      <th>7</th>\n",
       "      <td>2020-03-09</td>\n",
       "      <td>NaN</td>\n",
       "      <td>0.403</td>\n",
       "      <td>NaN</td>\n",
       "      <td>NaN</td>\n",
       "    </tr>\n",
       "    <tr>\n",
       "      <th>8</th>\n",
       "      <td>2020-03-09</td>\n",
       "      <td>NaN</td>\n",
       "      <td>0.482</td>\n",
       "      <td>NaN</td>\n",
       "      <td>NaN</td>\n",
       "    </tr>\n",
       "    <tr>\n",
       "      <th>9</th>\n",
       "      <td>2020-03-09</td>\n",
       "      <td>NaN</td>\n",
       "      <td>0.501</td>\n",
       "      <td>NaN</td>\n",
       "      <td>NaN</td>\n",
       "    </tr>\n",
       "    <tr>\n",
       "      <th>10</th>\n",
       "      <td>2020-03-09</td>\n",
       "      <td>NaN</td>\n",
       "      <td>0.989</td>\n",
       "      <td>NaN</td>\n",
       "      <td>NaN</td>\n",
       "    </tr>\n",
       "  </tbody>\n",
       "</table>\n",
       "</div>"
      ],
      "text/plain": [
       "          Date  YTM(t-s)  YTM(t) Tenor  Spread\n",
       "Var                                           \n",
       "1   2020-03-09       NaN   0.692   NaN     NaN\n",
       "2   2020-03-09       NaN   0.522   NaN     NaN\n",
       "3   2020-03-09       NaN   0.409   NaN     NaN\n",
       "4   2020-03-09       NaN   0.393   NaN     NaN\n",
       "5   2020-03-09       NaN   0.301   NaN     NaN\n",
       "6   2020-03-09       NaN   0.495   NaN     NaN\n",
       "7   2020-03-09       NaN   0.403   NaN     NaN\n",
       "8   2020-03-09       NaN   0.482   NaN     NaN\n",
       "9   2020-03-09       NaN   0.501   NaN     NaN\n",
       "10  2020-03-09       NaN   0.989   NaN     NaN"
      ]
     },
     "execution_count": 8,
     "metadata": {},
     "output_type": "execute_result"
    }
   ],
   "source": [
    "df_usa_bond = df_usa_bond.rename(columns={\"Open_x\": \"t_7\", \"Open_y\": \"t\", \"Variable_x\": \"Variable\", \"Variable_y\": \"Var\"})\n",
    "df_final = df_usa_bond[['t_7', 't', 'Variable', 'Var']]\n",
    "df_final.reset_index(inplace=True)\n",
    "df_final=df_final.loc[df_final['Date'] == hoy3]\n",
    "df_final['Spread'] = df_final.t - df_final.t_7\n",
    "df_final=df_final.set_index('Var')\n",
    "df_final=df_final.rename({'U.S. 30Y': 10})\n",
    "df_final=df_final.rename({'U.S. 10Y': 9})\n",
    "df_final=df_final.rename({'U.S. 7Y': 8})\n",
    "df_final=df_final.rename({'U.S. 5Y': 7})\n",
    "df_final=df_final.rename({'U.S. 3Y': 6})\n",
    "df_final=df_final.rename({'U.S. 3M': 2})\n",
    "df_final=df_final.rename({'U.S. 1Y': 4})\n",
    "df_final=df_final.rename({'U.S. 6M': 3})\n",
    "df_final=df_final.rename({'U.S. 1M': 1})\n",
    "df_final=df_final.rename({'U.S. 2Y': 5})\n",
    "df_final=df_final.sort_values(by=['Var'])\n",
    "df_final = df_final.rename(columns={\"t_7\": \"YTM(t-s)\", \"t\": \"YTM(t)\", \"Variable\": \"Tenor\"}) #s=7\n",
    "df_final"
   ]
  },
  {
   "cell_type": "code",
   "execution_count": 9,
   "metadata": {
    "colab": {
     "base_uri": "https://localhost:8080/",
     "height": 563
    },
    "colab_type": "code",
    "id": "WCMBEs-KGbul",
    "outputId": "1d3bff65-2bff-44f4-d30c-d27f946e9521"
   },
   "outputs": [
    {
     "data": {
      "image/png": "[encoded data removed]",
      "text/plain": [
       "<Figure size 1152x576 with 2 Axes>"
      ]
     },
     "metadata": {},
     "output_type": "display_data"
    }
   ],
   "source": [
    "fig, ax1 = plt.subplots()\n",
    "color = 'lightsteelblue'\n",
    "ax1.set_ylabel('Spread', color=color)\n",
    "ax1.tick_params(axis='y', labelcolor=color)\n",
    "ax1.tick_params(axis='x', rotation=90)\n",
    "#ax1.bar(df_final['Spread'], color=\"blue\", height=5)\n",
    "df_final.plot(figsize=(16,8),kind='bar', x='Tenor', y='Spread', color=color, linewidth= 1, ax=ax1)\n",
    "#for i in ax1.patches:\n",
    "  #ax1.text(i.get_x()+.12, i.get_height()-3, str(round((i.get_height())*100, 2)), fontsize=30, color='white')\n",
    "#for i in range(len(df_final['Spread'])):\n",
    "  #ax1.annotate(str(df_final['Spread']), xy=(i,df_final['Spread']))\n",
    "#for a,b in zip(df_final['Tenor'], df_final['Spread']):\n",
    " #   ax1.text(a, b, str(b), fontsize=14, color='black', va='center', ha='left')\n",
    "plt.title('U.S. Yield Curve', fontsize=25)\n",
    "#for i,j in zip(df_final['Tenor'], str(df_final['Spread'])):\n",
    " # ax1.annotate(str(j),xy=(i,j))\n",
    "ax2 = ax1.twinx()\n",
    "color = 'dodgerblue'\n",
    "ax2.set_xlabel('Tenor')\n",
    "ax2.set_ylabel('YTM', color=color)\n",
    "ax2.tick_params(axis='y', labelcolor=color )\n",
    "ax2.tick_params(axis='x', labelcolor=color, rotation=90)\n",
    "df_final.plot(figsize=(16,8),kind='line', x='Tenor', y='YTM(t)', color=color, linewidth=7, ax=ax2)\n",
    "df_final.plot(figsize=(16,8),kind='line', x='Tenor', y='YTM(t-s)', color='navy', linewidth=5, ax=ax2);"
   ]
  },
  {
   "cell_type": "markdown",
   "metadata": {
    "colab_type": "text",
    "id": "Pff2mHnRIgJw"
   },
   "source": [
    "##############################################################################################################################################################################################################"
   ]
  },
  {
   "cell_type": "markdown",
   "metadata": {
    "colab_type": "text",
    "id": "O-73ENLVeG0O"
   },
   "source": [
    "####SPREAD YTM10 PERU vs YTM10 USA"
   ]
  },
  {
   "cell_type": "code",
   "execution_count": 10,
   "metadata": {
    "colab": {
     "base_uri": "https://localhost:8080/",
     "height": 816
    },
    "colab_type": "code",
    "id": "-Ui_40IqeD2g",
    "outputId": "f01f309d-de71-4144-a23f-f49ad24c0865"
   },
   "outputs": [
    {
     "name": "stdout",
     "output_type": "stream",
     "text": [
      "             Open   High    Low  Close  Variable  Type\n",
      "Date                                                  \n",
      "2020-01-01  1.921  1.921  1.921  1.921  U.S. 10Y  bond\n",
      "2020-01-02  1.919  1.946  1.851  1.877  U.S. 10Y  bond\n",
      "2020-01-03  1.842  1.844  1.786  1.793  U.S. 10Y  bond\n",
      "2020-01-04  1.842  1.844  1.786  1.793  U.S. 10Y  bond\n",
      "2020-01-05  1.769  1.769  1.767  1.767  U.S. 10Y  bond\n",
      "...           ...    ...    ...    ...       ...   ...\n",
      "2020-08-30  0.724  0.724  0.724  0.724  U.S. 10Y  bond\n",
      "2020-08-31  0.723  0.749  0.692  0.706  U.S. 10Y  bond\n",
      "2020-09-01  0.713  0.731  0.669  0.672  U.S. 10Y  bond\n",
      "2020-09-02  0.675  0.693  0.643  0.648  U.S. 10Y  bond\n",
      "2020-09-03  0.646  0.664  0.615  0.620  U.S. 10Y  bond\n",
      "\n",
      "[247 rows x 6 columns]\n",
      "             Open   High    Low  Close  Variable  Type\n",
      "Date                                                  \n",
      "2020-01-01    NaN    NaN    NaN    NaN       NaN   NaN\n",
      "2020-01-02  4.136  4.136  4.136  4.136  Peru 10Y  bond\n",
      "2020-01-03  4.156  4.156  4.156  4.156  Peru 10Y  bond\n",
      "2020-01-04  4.156  4.156  4.156  4.156  Peru 10Y  bond\n",
      "2020-01-05  4.156  4.156  4.156  4.156  Peru 10Y  bond\n",
      "...           ...    ...    ...    ...       ...   ...\n",
      "2020-08-30  4.052  4.052  4.052  4.052  Peru 10Y  bond\n",
      "2020-08-31  3.983  3.983  3.983  3.983  Peru 10Y  bond\n",
      "2020-09-01  4.005  4.005  4.005  4.005  Peru 10Y  bond\n",
      "2020-09-02  4.002  4.064  4.002  4.060  Peru 10Y  bond\n",
      "2020-09-03  4.002  4.064  4.002  4.060  Peru 10Y  bond\n",
      "\n",
      "[247 rows x 6 columns]\n",
      "              USA   Peru  Spread\n",
      "Date                            \n",
      "2020-01-01  1.921    NaN     NaN\n",
      "2020-01-02  1.919  4.136   2.217\n",
      "2020-01-03  1.842  4.156   2.314\n",
      "2020-01-04  1.842  4.156   2.314\n",
      "2020-01-05  1.769  4.156   2.387\n",
      "...           ...    ...     ...\n",
      "2020-08-30  0.724  4.052   3.328\n",
      "2020-08-31  0.723  3.983   3.260\n",
      "2020-09-01  0.713  4.005   3.292\n",
      "2020-09-02  0.675  4.002   3.327\n",
      "2020-09-03  0.646  4.002   3.356\n",
      "\n",
      "[247 rows x 3 columns]\n"
     ]
    }
   ],
   "source": [
    "#USA\n",
    "df_usa_ytm10=investpy.get_bond_historical_data(bond= 'U.S. 10Y', from_date='01/01/2020', to_date=hoy3)\n",
    "df_usa_ytm10=df_usa_ytm10.assign(Variable=lambda x:  'U.S. 10Y', Type=lambda x: \"bond\") #Se añaden columnas Variable y Type\n",
    "df_usa_ytm10.reset_index(inplace=True)\n",
    "df_dateusa_ytm10 = df_date.join(df_usa_ytm10.set_index('Date'), on='Date')\n",
    "df_dateusa_ytm10 = df_dateusa_ytm10.fillna(method='ffill')\n",
    "df_dateusa_ytm10=df_dateusa_ytm10.set_index('Date')\n",
    "print(df_dateusa_ytm10)\n",
    "\n",
    "#Peru\n",
    "df_peru_ytm10=investpy.get_bond_historical_data(bond= 'Peru 10Y', from_date=Inicio1, to_date=hoy3)\n",
    "df_peru_ytm10=df_peru_ytm10.assign(Variable=lambda x:  'Peru 10Y', Type=lambda x: \"bond\") #Se añaden columnas Variable y Type\n",
    "df_peru_ytm10.reset_index(inplace=True)\n",
    "df_dateperu_ytm10 = df_date.join(df_peru_ytm10.set_index('Date'), on='Date')\n",
    "df_dateperu_ytm10 = df_dateperu_ytm10.fillna(method='ffill')\n",
    "df_dateperu_ytm10=df_dateperu_ytm10.set_index('Date')\n",
    "print(df_dateperu_ytm10)\n",
    "\n",
    "#Merge USA-Peru\n",
    "df_merge_ytm10 = pd.merge(df_dateusa_ytm10, df_dateperu_ytm10, on='Date' )\n",
    "\n",
    "#Spread\n",
    "df_merge_ytm10 = df_merge_ytm10.rename(columns={\"Open_x\": \"USA\", \"Open_y\": \"Peru\"})\n",
    "df_final_ytm10 = df_merge_ytm10[['USA', 'Peru']]\n",
    "df_final_ytm10['Spread'] = df_final_ytm10.Peru - df_final_ytm10.USA\n",
    "print(df_final_ytm10) "
   ]
  },
  {
   "cell_type": "code",
   "execution_count": 11,
   "metadata": {
    "colab": {
     "base_uri": "https://localhost:8080/",
     "height": 514
    },
    "colab_type": "code",
    "id": "EVya-RnlseMl",
    "outputId": "b50463d2-1525-4926-e966-0446ea2e470e"
   },
   "outputs": [
    {
     "data": {
      "image/png": "[encoded data removed]",
      "text/plain": [
       "<Figure size 1152x576 with 1 Axes>"
      ]
     },
     "metadata": {},
     "output_type": "display_data"
    }
   ],
   "source": [
    "fig, ax = plt.subplots()\n",
    "df_final_ytm10.plot(figsize=(16,8), kind='line', y='Spread', color='navy', linewidth= 3, ax=ax);"
   ]
  },
  {
   "cell_type": "code",
   "execution_count": 12,
   "metadata": {
    "colab": {
     "base_uri": "https://localhost:8080/",
     "height": 238
    },
    "colab_type": "code",
    "id": "DJ52OP0af_k_",
    "outputId": "6be09a34-eb51-4b7b-826d-b357c8c03b39"
   },
   "outputs": [
    {
     "ename": "NameError",
     "evalue": "name 'df_usa_junto_ytm10' is not defined",
     "output_type": "error",
     "traceback": [
      "\u001b[1;31m---------------------------------------------------------------------------\u001b[0m",
      "\u001b[1;31mNameError\u001b[0m                                 Traceback (most recent call last)",
      "\u001b[1;32m<ipython-input-12-9094f9c2fdb0>\u001b[0m in \u001b[0;36m<module>\u001b[1;34m\u001b[0m\n\u001b[1;32m----> 1\u001b[1;33m \u001b[0mdf_usa_junto_ytm10\u001b[0m \u001b[1;33m=\u001b[0m \u001b[0mdf_usa_junto_ytm10\u001b[0m\u001b[1;33m.\u001b[0m\u001b[0mrename\u001b[0m\u001b[1;33m(\u001b[0m\u001b[0mcolumns\u001b[0m\u001b[1;33m=\u001b[0m\u001b[1;33m{\u001b[0m\u001b[1;34m\"Open_x\"\u001b[0m\u001b[1;33m:\u001b[0m \u001b[1;34m\"t_s\"\u001b[0m\u001b[1;33m,\u001b[0m \u001b[1;34m\"Open_y\"\u001b[0m\u001b[1;33m:\u001b[0m \u001b[1;34m\"t\"\u001b[0m\u001b[1;33m,\u001b[0m \u001b[1;34m\"Variable_x\"\u001b[0m\u001b[1;33m:\u001b[0m \u001b[1;34m\"Variable\"\u001b[0m\u001b[1;33m}\u001b[0m\u001b[1;33m)\u001b[0m\u001b[1;33m\u001b[0m\u001b[1;33m\u001b[0m\u001b[0m\n\u001b[0m\u001b[0;32m      2\u001b[0m \u001b[0mdf_finalusa_ytm10\u001b[0m \u001b[1;33m=\u001b[0m \u001b[0mdf_usa_junto_ytm10\u001b[0m\u001b[1;33m[\u001b[0m\u001b[1;33m[\u001b[0m\u001b[1;34m't_s'\u001b[0m\u001b[1;33m,\u001b[0m \u001b[1;34m't'\u001b[0m\u001b[1;33m,\u001b[0m \u001b[1;34m'Variable'\u001b[0m\u001b[1;33m]\u001b[0m\u001b[1;33m]\u001b[0m\u001b[1;33m\u001b[0m\u001b[1;33m\u001b[0m\u001b[0m\n\u001b[0;32m      3\u001b[0m \u001b[0mdf_finalusa_ytm10\u001b[0m\u001b[1;33m.\u001b[0m\u001b[0mreset_index\u001b[0m\u001b[1;33m(\u001b[0m\u001b[0minplace\u001b[0m\u001b[1;33m=\u001b[0m\u001b[1;32mTrue\u001b[0m\u001b[1;33m)\u001b[0m\u001b[1;33m\u001b[0m\u001b[1;33m\u001b[0m\u001b[0m\n\u001b[0;32m      4\u001b[0m \u001b[0mdf_finalusa_ytm10\u001b[0m\u001b[1;33m[\u001b[0m\u001b[1;34m'Spread'\u001b[0m\u001b[1;33m]\u001b[0m \u001b[1;33m=\u001b[0m \u001b[0mdf_finalusa_ytm10\u001b[0m\u001b[1;33m.\u001b[0m\u001b[0mt\u001b[0m \u001b[1;33m-\u001b[0m \u001b[0mdf_finalusa_ytm10\u001b[0m\u001b[1;33m.\u001b[0m\u001b[0mt_s\u001b[0m\u001b[1;33m\u001b[0m\u001b[1;33m\u001b[0m\u001b[0m\n\u001b[0;32m      5\u001b[0m \u001b[0mdf_finalusa_ytm10\u001b[0m \u001b[1;33m=\u001b[0m \u001b[0mdf_finalusa_ytm10\u001b[0m\u001b[1;33m.\u001b[0m\u001b[0mrename\u001b[0m\u001b[1;33m(\u001b[0m\u001b[0mcolumns\u001b[0m\u001b[1;33m=\u001b[0m\u001b[1;33m{\u001b[0m\u001b[1;34m\"t_s\"\u001b[0m\u001b[1;33m:\u001b[0m \u001b[1;34m\"YTM(t-s)\"\u001b[0m\u001b[1;33m,\u001b[0m \u001b[1;34m\"t\"\u001b[0m\u001b[1;33m:\u001b[0m \u001b[1;34m\"YTM(t)\"\u001b[0m\u001b[1;33m,\u001b[0m \u001b[1;34m\"Variable\"\u001b[0m\u001b[1;33m:\u001b[0m \u001b[1;34m\"Tenor\"\u001b[0m\u001b[1;33m}\u001b[0m\u001b[1;33m)\u001b[0m\u001b[1;33m\u001b[0m\u001b[1;33m\u001b[0m\u001b[0m\n",
      "\u001b[1;31mNameError\u001b[0m: name 'df_usa_junto_ytm10' is not defined"
     ]
    }
   ],
   "source": [
    "df_usa_junto_ytm10 = df_usa_junto_ytm10.rename(columns={\"Open_x\": \"t_s\", \"Open_y\": \"t\", \"Variable_x\": \"Variable\"})\n",
    "df_finalusa_ytm10 = df_usa_junto_ytm10[['t_s', 't', 'Variable']]\n",
    "df_finalusa_ytm10.reset_index(inplace=True)\n",
    "df_finalusa_ytm10['Spread'] = df_finalusa_ytm10.t - df_finalusa_ytm10.t_s\n",
    "df_finalusa_ytm10 = df_finalusa_ytm10.rename(columns={\"t_s\": \"YTM(t-s)\", \"t\": \"YTM(t)\", \"Variable\": \"Tenor\"})\n",
    "df_finalusa_ytm10"
   ]
  },
  {
   "cell_type": "markdown",
   "metadata": {
    "colab_type": "text",
    "id": "Q64BP_usI-br"
   },
   "source": [
    "#PRUEBAS (Ignorar)"
   ]
  },
  {
   "cell_type": "code",
   "execution_count": null,
   "metadata": {
    "colab": {},
    "colab_type": "code",
    "id": "VgYRN8YUzgNG"
   },
   "outputs": [],
   "source": [
    "#DÍA DE HOY\n",
    "df_hoy_usa=df_usa_bond.loc[df_usa_bond['Date'] == hoy3]\n",
    "df_hoy_usa=df_hoy_usa.set_index('Variable')\n",
    "df_hoy_usa"
   ]
  },
  {
   "cell_type": "code",
   "execution_count": null,
   "metadata": {
    "colab": {},
    "colab_type": "code",
    "id": "CEqhvCArBIvP"
   },
   "outputs": [],
   "source": [
    "from datetime import timedelta\n",
    "past_week = datetime.datetime.today() - timedelta(days=7)\n",
    "past_week =str(past_week.strftime('%d/%m/%Y'))\n",
    "past_week"
   ]
  },
  {
   "cell_type": "code",
   "execution_count": null,
   "metadata": {
    "colab": {},
    "colab_type": "code",
    "id": "lU8lmLKU1Vqx"
   },
   "outputs": [],
   "source": [
    "#SEMANA PASADA\n",
    "df_pastweek_usa=df_usa_bond.loc[df_usa_bond['Date'] == past_week]\n",
    "df_pastweek_usa=df_pastweek_usa.set_index('Variable')\n",
    "df_pastweek_usa"
   ]
  },
  {
   "cell_type": "code",
   "execution_count": null,
   "metadata": {
    "colab": {},
    "colab_type": "code",
    "id": "QnMc_EwgpNiy"
   },
   "outputs": [],
   "source": [
    "#RESTA HOY Y HACE UNA SEMANA\n",
    "df_resta = df_pastweek_usa[[ ]]\n",
    "df_resta['Resta'] = df_hoy_usa.Open - df_pastweek_usa.Open\n",
    "df_resta"
   ]
  },
  {
   "cell_type": "code",
   "execution_count": null,
   "metadata": {
    "colab": {},
    "colab_type": "code",
    "id": "ANBRRSBx2AOW"
   },
   "outputs": [],
   "source": [
    "fig, ax = plt.subplots()\n",
    "df_hoy_usa.plot(figsize=(25,10),kind='line', y='Open', color='skyblue', linewidth= 5, ax=ax)\n",
    "\n",
    "df_resta.plot(figsize=(25,10),kind='bar',  y='Resta', color='gray', linewidth= 0.1, ax=ax)\n",
    "#for p in ax.patches:\n",
    " #   ax.annotate(p.get_height(), (p.get_x(), p.get_height()), fontsize=14, color='white')\n",
    "for i in ax.patches:\n",
    "  ax.text(i.get_x(), i.get_height(),i.get_height()), fontsize=22, color='white')\n"
   ]
  },
  {
   "cell_type": "code",
   "execution_count": null,
   "metadata": {
    "colab": {},
    "colab_type": "code",
    "id": "c25X_4p7Ikb3"
   },
   "outputs": [],
   "source": [
    "fig, ax = plt.subplots()\n",
    "df_hoy_usa.plot(figsize=(25,10),kind='line', y='Open', color='skyblue', linewidth= 5, ax=ax)\n",
    "df_resta.plot(figsize=(25,10),kind='bar',  y='Resta', color='gray', linewidth= 0.1, ax=ax)\n",
    "for k, v in df_resta.iterrows():\n",
    "  ax.annotate(k, v, xytext=(10,-5), textcoords='offset points', family='sans-serif', fontsize=18, color='darkslategrey')"
   ]
  },
  {
   "cell_type": "code",
   "execution_count": null,
   "metadata": {
    "colab": {},
    "colab_type": "code",
    "id": "3mw1KxupJrno"
   },
   "outputs": [],
   "source": [
    "df_usa_bond.isnull().sum().sum()"
   ]
  },
  {
   "cell_type": "markdown",
   "metadata": {
    "colab_type": "text",
    "id": "jsXk7nhkY8ME"
   },
   "source": [
    "####PRUEBA DE SOLO 1 BONO\n"
   ]
  },
  {
   "cell_type": "code",
   "execution_count": null,
   "metadata": {
    "colab": {},
    "colab_type": "code",
    "id": "ZLRg_k3EQ9DD"
   },
   "outputs": [],
   "source": [
    "df_usa30Y=investpy.get_bond_historical_data(bond= \"U.S. 30Y\", from_date='01/01/2020', to_date=hoy3)\n",
    "df_usa30Y.reset_index(inplace=True)\n",
    "df_date = df_date.join(df_usa30Y.set_index('Date'), on='Date')\n",
    "df_date = df_date.fillna(method='ffill') \n",
    "print(df_date)"
   ]
  },
  {
   "cell_type": "code",
   "execution_count": null,
   "metadata": {
    "colab": {},
    "colab_type": "code",
    "id": "sEidNdIryudE"
   },
   "outputs": [],
   "source": [
    "df_date"
   ]
  }
 ],
 "metadata": {
  "colab": {
   "collapsed_sections": [],
   "name": "Bonds - Market data reporting.ipynb",
   "provenance": []
  },
  "kernelspec": {
   "display_name": "Python 3",
   "language": "python",
   "name": "python3"
  },
  "language_info": {
   "codemirror_mode": {
    "name": "ipython",
    "version": 3
   },
   "file_extension": ".py",
   "mimetype": "text/x-python",
   "name": "python",
   "nbconvert_exporter": "python",
   "pygments_lexer": "ipython3",
   "version": "3.8.3"
  }
 },
 "nbformat": 4,
 "nbformat_minor": 1
}
